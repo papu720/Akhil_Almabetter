{
  "nbformat": 4,
  "nbformat_minor": 0,
  "metadata": {
    "colab": {
      "private_outputs": true,
      "provenance": [],
      "collapsed_sections": [
        "vncDsAP0Gaoa",
        "yQaldy8SH6Dl",
        "PH-0ReGfmX4f",
        "mDgbUHAGgjLW",
        "H0kj-8xxnORC",
        "nA9Y7ga8ng1Z",
        "PBTbrJXOngz2",
        "u3PMJOP6ngxN",
        "MSa1f5Uengrz",
        "iky9q4vBYrdO",
        "QHF8YVU7Yuh3",
        "bbFf2-_FphqN",
        "_ouA3fa0phqN",
        "Seke61FWphqN",
        "PIIx-8_IphqN",
        "t27r6nlMphqO",
        "r2jJGEOYphqO",
        "b0JNsNcRphqO",
        "BZR9WyysphqO",
        "jj7wYXLtphqO",
        "eZrbJ2SmphqO",
        "rFu4xreNphqO",
        "YJ55k-q6phqO",
        "gCFgpxoyphqP",
        "OVtJsKN_phqQ",
        "lssrdh5qphqQ",
        "U2RJ9gkRphqQ",
        "1M8mcRywphqQ",
        "tgIPom80phqQ",
        "JMzcOPDDphqR",
        "x-EpHcCOp1ci",
        "X_VqEhTip1ck",
        "8zGJKyg5p1ck",
        "PVzmfK_Ep1ck",
        "n3dbpmDWp1ck",
        "ylSl6qgtp1ck",
        "ZWILFDl5p1ck",
        "M7G43BXep1ck",
        "Ag9LCva-p1cl",
        "E6MkPsBcp1cl",
        "2cELzS2fp1cl",
        "3MPXvC8up1cl",
        "UV0SzAkaZNRQ",
        "YPEH6qLeZNRQ",
        "EXh0U9oCveiU",
        "22aHeOlLveiV",
        "gIfDvo9L0UH2"
      ],
      "toc_visible": true,
      "include_colab_link": true
    },
    "kernelspec": {
      "name": "python3",
      "display_name": "Python 3"
    },
    "language_info": {
      "name": "python"
    }
  },
  "cells": [
    {
      "cell_type": "markdown",
      "metadata": {
        "id": "view-in-github",
        "colab_type": "text"
      },
      "source": [
        "<a href=\"https://colab.research.google.com/github/papu720/Akhil_Almabetter/blob/main/Almabetter___EDA_Submission_Template.ipynb\" target=\"_parent\"><img src=\"https://colab.research.google.com/assets/colab-badge.svg\" alt=\"Open In Colab\"/></a>"
      ]
    },
    {
      "cell_type": "markdown",
      "source": [
        "# **Project Name**    - Play Store App Review Analysis\n",
        "\n",
        "1.   List item\n",
        "\n"
      ],
      "metadata": {
        "id": "vncDsAP0Gaoa"
      }
    },
    {
      "cell_type": "markdown",
      "source": [
        "##### **Project Type**    - EDA\n",
        "\n",
        "\n",
        "\n",
        "##### **Contribution**    - Individual\n",
        "\n",
        "\n",
        "\n"
      ],
      "metadata": {
        "id": "beRrZCGUAJYm"
      }
    },
    {
      "cell_type": "markdown",
      "source": [
        "# **Project Summary -**"
      ],
      "metadata": {
        "id": "FJNUwmbgGyua"
      }
    },
    {
      "cell_type": "code",
      "source": [
        "from google.colab import drive\n",
        "drive.mount('/content/drive')"
      ],
      "metadata": {
        "id": "taOQRA0mGSSu"
      },
      "execution_count": null,
      "outputs": []
    },
    {
      "cell_type": "markdown",
      "source": [
        "Write the summary here within 500-600 words\n",
        "\n",
        "Project Summary:\n",
        "\n",
        "The project involved analyzing data from the Google Play Store to derive insights that could drive app-making businesses to success. The dataset contained information about various apps, including their categories, ratings, reviews, sizes, installs, and pricing. Additionally, customer reviews of the apps were available for analysis\n",
        "\n",
        "The primary objective was to explore the data and identify key factors responsible for app engagement and success. This included understanding the performance of different app categories, the impact of ratings and reviews, and the relationship between app features and user satisfaction.\n",
        "\n",
        "Several analyses and visualizations were performed, including:\n",
        "\n",
        "Trend analysis of review counts over time to understand user engagement trends.\n",
        "\n",
        "Comparison of app ratings between art and design apps and other categories to assess their performance.\n",
        "Investigation of the distribution of app ratings across different categories.\n",
        "Examination of the relationship between app installs and reviews to gauge user feedback.\n",
        "Visualization of correlations between numerical features such as ratings, reviews, installs, and pricing.\n",
        "\n",
        "Insights gained from the analyses provided valuable recommendations for app developers and stakeholders. These insights included:\n",
        "\n",
        "Identifying factors that contribute to higher app ratings and increased installs.\n",
        "Recommending strategies for app improvement, such as enhancing user experience and adjusting pricing strategies.\n",
        "Highlighting trends in user engagement and satisfaction to guide future app development efforts.\n",
        "\n",
        "Overall, the project aimed to empower app-making businesses with actionable insights to improve their app offerings and drive positive business outcomes in the competitive mobile app market\n",
        "\n",
        "\n",
        "\n",
        "\n"
      ],
      "metadata": {
        "id": "F6v_1wHtG2nS"
      }
    },
    {
      "cell_type": "markdown",
      "source": [
        "# **GitHub Link -**"
      ],
      "metadata": {
        "id": "w6K7xa23Elo4"
      }
    },
    {
      "cell_type": "markdown",
      "source": [
        "\n",
        "https://github.com/papu720/Akhil_Almabetter.git\n",
        "Provide your GitHub Link here."
      ],
      "metadata": {
        "id": "h1o69JH3Eqqn"
      }
    },
    {
      "cell_type": "markdown",
      "source": [
        "# **Problem Statement**\n"
      ],
      "metadata": {
        "id": "yQaldy8SH6Dl"
      }
    },
    {
      "cell_type": "markdown",
      "source": [
        " **Write Problem Statement Here.**\n",
        "\n",
        "Problem Statement:\n",
        "\n",
        "The problem statement for the project involves leveraging data from the Google Play Store to address key challenges faced by app-making businesses. Specifically, the project aims to analyze the dataset containing information about various apps, including their categories, ratings, reviews, sizes, installs, and pricing, to derive actionable insights that can drive app success.\n",
        "\n",
        "Key challenges to address include:\n",
        "\n",
        "Understanding the performance of different app categories: Identify which app categories are performing well in terms of ratings, reviews, and installs, and which ones are lagging behind.\n",
        "\n",
        "Assessing the impact of ratings and reviews: Determine the correlation between app ratings, user reviews, and app installs to understand how user feedback influences app success.\n",
        "\n",
        "Exploring user engagement trends over time: Analyze trends in review counts over time to identify patterns of user engagement and satisfaction.\n",
        "\n",
        "Identifying factors contributing to app success: Investigate the relationship between app features such as size, pricing, and content, and their impact on app ratings and installs.\n",
        "\n",
        "Providing actionable recommendations: Based on the insights derived from the analysis, recommend strategies for app developers to improve their app offerings, enhance user experience, and increase user engagement and installs.\n",
        "\n",
        "Overall, the goal is to leverage data-driven insights to help app-making businesses make informed decisions, optimize their app performance, and achieve success in the competitive mobile app market."
      ],
      "metadata": {
        "id": "DpeJGUA3kjGy"
      }
    },
    {
      "cell_type": "markdown",
      "source": [
        "#### **Define Your Business Objective?**"
      ],
      "metadata": {
        "id": "PH-0ReGfmX4f"
      }
    },
    {
      "cell_type": "markdown",
      "source": [
        "Answer Here.\n",
        "\n",
        " Based on the context provided, the business objective for the project could be:\n",
        "\n",
        " \"To leverage insights from the analysis of Play Store apps data and customer reviews to identify key factors influencing app engagement and success. The aim is to provide actionable recommendations for app developers to improve their app offerings and capture a larger share of the Android market.\"\n",
        "\n",
        "---\n",
        "\n"
      ],
      "metadata": {
        "id": "PhDvGCAqmjP1"
      }
    },
    {
      "cell_type": "markdown",
      "source": [
        "# **General Guidelines** : -  "
      ],
      "metadata": {
        "id": "mDgbUHAGgjLW"
      }
    },
    {
      "cell_type": "markdown",
      "source": [
        "1.   Well-structured, formatted, and commented code is required.\n",
        "2.   Exception Handling, Production Grade Code & Deployment Ready Code will be a plus. Those students will be awarded some additional credits.\n",
        "     \n",
        "     The additional credits will have advantages over other students during Star Student selection.\n",
        "       \n",
        "             [ Note: - Deployment Ready Code is defined as, the whole .ipynb notebook should be executable in one go\n",
        "                       without a single error logged. ]\n",
        "\n",
        "3.   Each and every logic should have proper comments.\n",
        "4. You may add as many number of charts you want. Make Sure for each and every chart the following format should be answered.\n",
        "        \n",
        "\n",
        "```\n",
        "# Chart visualization code\n",
        "```\n",
        "            \n",
        "\n",
        "*   Why did you pick the specific chart?\n",
        "*   What is/are the insight(s) found from the chart?\n",
        "* Will the gained insights help creating a positive business impact?\n",
        "Are there any insights that lead to negative growth? Justify with specific reason.\n",
        "\n",
        "5. You have to create at least 20 logical & meaningful charts having important insights.\n",
        "\n",
        "\n",
        "[ Hints : - Do the Vizualization in  a structured way while following \"UBM\" Rule.\n",
        "\n",
        "U - Univariate Analysis,\n",
        "\n",
        "B - Bivariate Analysis (Numerical - Categorical, Numerical - Numerical, Categorical - Categorical)\n",
        "\n",
        "M - Multivariate Analysis\n",
        " ]\n",
        "\n",
        "\n",
        "\n"
      ],
      "metadata": {
        "id": "ZrxVaUj-hHfC"
      }
    },
    {
      "cell_type": "markdown",
      "source": [
        "# ***Let's Begin !***"
      ],
      "metadata": {
        "id": "O_i_v8NEhb9l"
      }
    },
    {
      "cell_type": "markdown",
      "source": [
        "## ***1. Know Your Data***"
      ],
      "metadata": {
        "id": "HhfV-JJviCcP"
      }
    },
    {
      "cell_type": "markdown",
      "source": [
        "### Import Libraries"
      ],
      "metadata": {
        "id": "Y3lxredqlCYt"
      }
    },
    {
      "cell_type": "code",
      "source": [
        "# Import Libraries\n",
        "!pip install pandas\n",
        "import pandas as pd\n",
        "import numpy as np\n",
        "!pip install matplotlib\n",
        "import matplotlib.pyplot as plt\n",
        "import seaborn as sns\n",
        "from google.colab import drive"
      ],
      "metadata": {
        "id": "M8Vqi-pPk-HR"
      },
      "execution_count": null,
      "outputs": []
    },
    {
      "cell_type": "markdown",
      "source": [
        "### Dataset Loading"
      ],
      "metadata": {
        "id": "3RnN4peoiCZX"
      }
    },
    {
      "cell_type": "code",
      "source": [
        "# Load Dataset\n",
        "import pandas as pd\n",
        "\n",
        "# Load Dataset for Play Store Data\n",
        "#drive.mount('/content/drive')\n",
        "#path = '/content/drive/MyDrive/Colab Notebooks/Play Store Data.csv\n",
        "#apps_data = pd.read_csv(path)\n",
        "apps_data = pd.read_csv('/content/drive/MyDrive/Colab Notebooks/Play Store Data.csv')\n",
        "\n",
        "# Load Dataset for Customer Reviews Data\n",
        "\n",
        "reviews_data = pd.read_csv('/content/drive/MyDrive/Colab Notebooks/User Reviews.csv')\n",
        "\n"
      ],
      "metadata": {
        "id": "4CkvbW_SlZ_R"
      },
      "execution_count": null,
      "outputs": []
    },
    {
      "cell_type": "markdown",
      "source": [
        "### Dataset First View"
      ],
      "metadata": {
        "id": "x71ZqKXriCWQ"
      }
    },
    {
      "cell_type": "code",
      "source": [
        "# Dataset First Look\n",
        "print(apps_data.head())\n",
        "print(reviews_data.head())"
      ],
      "metadata": {
        "id": "LWNFOSvLl09H"
      },
      "execution_count": null,
      "outputs": []
    },
    {
      "cell_type": "markdown",
      "source": [
        "### Dataset Rows & Columns count"
      ],
      "metadata": {
        "id": "7hBIi_osiCS2"
      }
    },
    {
      "cell_type": "markdown",
      "source": [],
      "metadata": {
        "id": "yY_kRO3hiNIY"
      }
    },
    {
      "cell_type": "markdown",
      "source": [],
      "metadata": {
        "id": "jIAvggT4iJPE"
      }
    },
    {
      "cell_type": "code",
      "source": [
        "# Dataset Rows & Columns count\n",
        "apps_data.shape\n",
        "reviews_data.shape"
      ],
      "metadata": {
        "id": "Kllu7SJgmLij"
      },
      "execution_count": null,
      "outputs": []
    },
    {
      "cell_type": "markdown",
      "source": [
        "### Dataset Information"
      ],
      "metadata": {
        "id": "JlHwYmJAmNHm"
      }
    },
    {
      "cell_type": "code",
      "source": [
        "# Dataset Info\n",
        "apps_data.info()\n",
        "reviews_data.info()"
      ],
      "metadata": {
        "id": "e9hRXRi6meOf"
      },
      "execution_count": null,
      "outputs": []
    },
    {
      "cell_type": "markdown",
      "source": [
        "#### Duplicate Values"
      ],
      "metadata": {
        "id": "35m5QtbWiB9F"
      }
    },
    {
      "cell_type": "code",
      "source": [
        "# Dataset Duplicate Value Count\n",
        "\n",
        "# Find duplicate rows in Play Store Apps Data\n",
        "apps_duplicates_counts = apps_data.duplicated().sum()\n",
        "\n",
        "# Find duplicate rows in Customer Reviews Data\n",
        "reviews_duplicates_counts = reviews_data.duplicated().sum()"
      ],
      "metadata": {
        "id": "1sLdpKYkmox0"
      },
      "execution_count": null,
      "outputs": []
    },
    {
      "cell_type": "markdown",
      "source": [
        "#### Missing Values/Null Values"
      ],
      "metadata": {
        "id": "PoPl-ycgm1ru"
      }
    },
    {
      "cell_type": "code",
      "source": [
        "# Missing Values/Null Values Count\n",
        "\n",
        "# Checking missing/null values count for Play Store Apps Data\n",
        "print(\"Missing values in Play Store Apps Data:\")\n",
        "print(apps_data.isnull().sum())\n",
        "\n",
        "# Checking missing/null values count for Customer Reviews Data\n",
        "print(\"Missing values in Customer Reviews Data:\")\n",
        "print(reviews_data.isnull().sum())"
      ],
      "metadata": {
        "id": "GgHWkxvamxVg"
      },
      "execution_count": null,
      "outputs": []
    },
    {
      "cell_type": "code",
      "source": [
        "# Visualizing the missing values\n",
        "import seaborn as sns\n",
        "\n",
        "# Checking Null values by plotting Heatmap for Play Store Apps Data\n",
        "sns.heatmap(apps_data.isnull(), cbar=False)\n",
        "\n",
        "# Checking Null values by plotting Heatmap for Customer Reviews Data\n",
        "sns.heatmap(reviews_data.isnull(), cbar=False)"
      ],
      "metadata": {
        "id": "3q5wnI3om9sJ"
      },
      "execution_count": null,
      "outputs": []
    },
    {
      "cell_type": "markdown",
      "source": [
        "### What did you know about your dataset?"
      ],
      "metadata": {
        "id": "H0kj-8xxnORC"
      }
    },
    {
      "cell_type": "markdown",
      "source": [
        "Answer Here\n",
        "\n",
        "Based on the provided information and analysis, here's what we know about the datasets:\n",
        "\n",
        "Play Store Apps Data:\n",
        "\n",
        "Contains information about various mobile applications available on the Google Play Store.\n",
        " Attributes include the name of the app, category, rating, number of reviews, size, number of installs, type (free/paid), price, content rating, genres, last updated date, current version, and minimum required Android version.\n",
        "The dataset has 10,841 entries and 13 columns.\n",
        "Missing values are present in the Rating, Type, Content Rating, Current Ver, and Android Ver columns.\n",
        "Data types include object (strings) and float (for Rating).\n",
        "Customer Reviews Data:\n",
        "\n",
        "Contains customer reviews for mobile applications on the Google Play Store.\n",
        "\n",
        "Attributes include the app name, translated review text, sentiment of the review, sentiment polarity, and sentiment subjectivity.\n",
        "The dataset has 64,295 entries and 5 columns.\n",
        "Missing values are present in the Translated_Review, Sentiment, Sentiment_Polarity, and Sentiment_Subjectivity columns.\n",
        "Data types include object (strings) and float (for sentiment polarity and subjectivity).\n",
        "Both datasets provide valuable insights into the performance and sentiment of mobile applications on the Google Play Store. However, further preprocessing, such as handling missing values and data cleaning, may be required to derive meaningful conclusions and insights from the data.\n",
        "\n"
      ],
      "metadata": {
        "id": "gfoNAAC-nUe_"
      }
    },
    {
      "cell_type": "markdown",
      "source": [],
      "metadata": {
        "id": "D3j2-gk28EkI"
      }
    },
    {
      "cell_type": "markdown",
      "source": [
        "## ***2. Understanding Your Variables***"
      ],
      "metadata": {
        "id": "nA9Y7ga8ng1Z"
      }
    },
    {
      "cell_type": "code",
      "source": [
        "# Dataset Columns\n",
        "\n",
        "# Play Store Apps Data  Columns\n",
        "apps_data.columns\n",
        "\n",
        "# Customer Reviews  Data Columns\n",
        "reviews_data.columns\n"
      ],
      "metadata": {
        "id": "j7xfkqrt5Ag5"
      },
      "execution_count": null,
      "outputs": []
    },
    {
      "cell_type": "code",
      "source": [
        "# Dataset Describe\n",
        "\n",
        "# Generate Descriptive Statistics for Play Store Apps  Data\n",
        "apps_data.describe(include='all')\n",
        "\n",
        "# Generate Descriptive Statistics for Customer Reviews Data\n",
        "reviews_data.describe(include='all')\n"
      ],
      "metadata": {
        "id": "DnOaZdaE5Q5t"
      },
      "execution_count": null,
      "outputs": []
    },
    {
      "cell_type": "markdown",
      "source": [
        "### Variables Description\n",
        "\n",
        "**Play Store Apps Data :-**\n",
        "\n",
        "1. **App :**Name of the mobile application.\n",
        "2.**Category :**Category to which the app belongs(e.g.,art and design,beauty).\n",
        "3.**Rating :**Average user rating of the app.\n",
        "4.**Reviews :**Number of user reviews for the app.\n",
        "5.**Size :**Size of the app(in Megabytes or Gigabytes).\n",
        "6.**Installs :**Number of app downloads or installs.\n",
        "7.**Type :**Whether the app is free or paid.\n",
        "8.**Price :**Price of the app if it is not free.\n",
        "9.**Content Rating :**Target audience age group for the app.\n",
        "10.**Genres :**Genre(s) the app belongs to.\n",
        "11.**Last Updated :**Date when the app was last updated.\n",
        "12.**Current Ver :**Minimum current version required to run the app.\n",
        "13.**Android Ver :**Minimum andriod version required to run the app.\n",
        "\n",
        "**Customer Reviews Data:**\n",
        "\n",
        "1.**App :**Textual data(linked to Play APP Store Data).\n",
        "\n",
        "2.**Translated Review :**Textual data.\n",
        "\n",
        "3.**Sentiment :**Categorical data.\n",
        "\n",
        "4.**Sentiment Polarity :**Numerical data(float).\n",
        "\n",
        "5.**Sentiment Subjectivity :**Numerical data(float).\n",
        "\n"
      ],
      "metadata": {
        "id": "PBTbrJXOngz2"
      }
    },
    {
      "cell_type": "markdown",
      "source": [
        "Answer Here"
      ],
      "metadata": {
        "id": "aJV4KIxSnxay"
      }
    },
    {
      "cell_type": "markdown",
      "source": [
        "### Check Unique Values for each variable."
      ],
      "metadata": {
        "id": "u3PMJOP6ngxN"
      }
    },
    {
      "cell_type": "code",
      "source": [
        "# Check Unique Values for each variable.\n",
        "\n",
        "# Check unique values for each variable of Play Store Apps Data.\n",
        "for i in apps_data.columns.tolist():\n",
        "  print(\"No of unique values in\",i,\"is\",apps_data[i].nunique(),\".\")\n",
        "\n",
        "# Check unique values for Customer reviews data\n",
        "for i in reviews_data.columns.tolist():\n",
        "  print(\"No of unique values in\",i,\"is\",reviews_data[i].nunique(),\".\")\n",
        "\n"
      ],
      "metadata": {
        "id": "zms12Yq5n-jE"
      },
      "execution_count": null,
      "outputs": []
    },
    {
      "cell_type": "markdown",
      "source": [
        "## 3. ***Data Wrangling***"
      ],
      "metadata": {
        "id": "dauF4eBmngu3"
      }
    },
    {
      "cell_type": "markdown",
      "source": [
        "### Data Wrangling Code"
      ],
      "metadata": {
        "id": "bKJF3rekwFvQ"
      }
    },
    {
      "cell_type": "code",
      "source": [
        "import pandas as pd\n",
        "import numpy as np\n",
        "import re\n",
        "\n",
        "# Convert 'Size' column to numerical and handle missing values with the median\n",
        "apps_data['Size'] = apps_data['Size'].replace('Varies with device', np.nan)\n",
        "\n",
        "# Convert 'Size' column to string column\n",
        "apps_data['Size'] = apps_data['Size'].astype(str)\n",
        "\n",
        "# Extract the numeric part of the 'Size' column\n",
        "apps_data['Size'] = apps_data['Size'].str.extract(r'([\\d\\.]+)').astype(float)\n",
        "\n",
        "# Convert 'M' to appropriate scale\n",
        "apps_data.loc[apps_data['Size'].notnull() & apps_data['Size'].astype(str).str.endswith('M'), 'Size'] *= 1e6\n",
        "\n",
        "# Convert 'k' to appropriate scale\n",
        "apps_data.loc[apps_data['Size'].notnull() & apps_data['Size'].astype(str).str.endswith('k'), 'Size'] *= 1e3\n",
        "\n",
        "# Fill missing values with the median\n",
        "apps_data['Size'] = apps_data['Size'].fillna(apps_data['Size'].median())\n",
        "\n",
        "# Define function to convert installations to numerical\n",
        "def convert_installs(installs_str):\n",
        "    if pd.isna(installs_str):\n",
        "       return installs_str\n",
        "    elif isinstance(installs_str, int):\n",
        "       return installs_str\n",
        "    else:\n",
        "       # Remove non numeric characters and convert to int\n",
        "       numeric_part = ''.join(filter(str.isdigit, str(installs_str)))\n",
        "       return int(numeric_part) if numeric_part else np.nan\n",
        "\n",
        "# Apply function to 'Installs' column\n",
        "apps_data['Installs'] = apps_data['Installs'].apply(convert_installs)\n",
        "\n",
        "# Adjust scale (since the values represent installations in terms of thousands)\n",
        "apps_data['Installs'] =  apps_data['Installs'] * 1000\n",
        "\n",
        "# Display DataFrame\n",
        "print(apps_data)\n",
        "\n",
        "# Define a function to extract only the numerical part from the string\n",
        "def extract_numerical(value_str):\n",
        "    if isinstance(value_str, str):\n",
        "       numerical_part = re.search(r'\\d+\\.?\\d*', value_str)\n",
        "       if numerical_part:\n",
        "          return float(numerical_part.group())\n",
        "    return np.nan\n",
        "\n",
        "# Apply the function to 'Price' column\n",
        "apps_data['Price'] = apps_data['Price'].apply(extract_numerical)\n",
        "\n",
        "# Replace the problematic value with NaN in 'Last Updated' column\n",
        "apps_data['Last Updated'] = apps_data['Last Updated'].replace(\"1.0.19\", np.nan)\n",
        "\n",
        "# Convert 'Last Updated' to datetime format\n",
        "apps_data['Last Updated'] = pd.to_datetime(apps_data['Last Updated'])\n",
        "\n",
        "# Extract year from 'Last Updated' and create new column 'Year Updated'\n",
        "apps_data['Year Updated'] = apps_data['Last Updated'].dt.year\n",
        "\n",
        "# Convert categorical variables to numerical using one-hot encoding\n",
        "apps_data = pd.get_dummies(apps_data, columns=['Type', 'Content Rating'], drop_first=True)\n",
        "\n",
        "# Bin 'Size' into categories and create a new categorical column\n",
        "bins = [0, 10, 50, 100, np.inf]\n",
        "labels = ['Very Small', 'Small', 'Medium', 'Large']\n",
        "apps_data['Size Category'] = pd.cut(apps_data['Size'], bins=bins, labels=labels)\n",
        "\n",
        "# Display summary information\n",
        "print(\"Summary of Play Store Apps Data:\")\n",
        "print(apps_data.info())\n",
        "\n",
        "# Handling missing values in Customer Reviews Data\n",
        "# Fill missing values in 'Translated_Review' with empty string\n",
        "reviews_data['Translated_Review'] = reviews_data['Translated_Review'].fillna('')\n",
        "\n",
        "# Fill missing values in 'Sentiment', 'Sentiment_Polarity', and 'Sentiment_Subjectivity' with mode or median\n",
        "mode_cols = ['Sentiment', 'Sentiment_Polarity', 'Sentiment_Subjectivity']\n",
        "for col in mode_cols:\n",
        "    if col == 'Sentiment':\n",
        "        reviews_data[col] = reviews_data[col].fillna(reviews_data[col].mode()[0])\n",
        "    else:\n",
        "        reviews_data[col] = reviews_data[col].fillna(reviews_data[col].median())\n",
        "\n",
        "# Remove duplicate rows based on 'Translated_Review'\n",
        "reviews_data = reviews_data.drop_duplicates(subset=['Translated_Review'])\n",
        "\n",
        "# Text preprocessing (e.g., lowercasing, removing punctuation) for 'App' column\n",
        "reviews_data.loc[:,'App'] = reviews_data['App'].str.lower()\n",
        "reviews_data.loc[:,'App'] = reviews_data['App'].str.replace('[^\\w\\s]', '')\n",
        "\n",
        "\n",
        "# Handle outliers in numerical columns\n",
        "numeric_cols = ['Rating', 'Reviews', 'Size', 'Installs', 'Price']\n",
        "\n",
        "# Convert numerical columns to numerical data type\n",
        "apps_data[numeric_cols] = apps_data[numeric_cols].apply(pd.to_numeric, errors='coerce')\n",
        "\n",
        "# Iterate over numeric columns to detect and handle outliers\n",
        "for col in numeric_cols:\n",
        "    # Calculate the interquartile range(IQR)\n",
        "    Q1 = apps_data[col].quantile(0.25)\n",
        "    Q3 = apps_data[col].quantile(0.75)\n",
        "    IQR = Q3 - Q1\n",
        "\n",
        "    # Define the outlier boundaries\n",
        "    lower_bound = Q1 - 1.5 * IQR\n",
        "    upper_bound = Q3 + 1.5 * IQR\n",
        "\n",
        "    # Identify outliers\n",
        "    outliers = apps_data[(apps_data[col] < lower_bound) | (apps_data[col] > upper_bound)]\n",
        "\n",
        "    # Print the results\n",
        "    print(f\"Number of Outliers in {col}: {outliers.shape[0]}\")\n",
        "\n",
        "# Print summary information\n",
        "print(\"Summary of Play Store Apps Data:\")\n",
        "print(apps_data.info())\n",
        "\n",
        "print(\"\\nSummary of Customer Reviews Data:\")\n",
        "print(reviews_data.info())\n",
        "\n",
        "\n",
        "\n",
        "\n",
        "\n",
        "\n",
        "\n",
        "\n",
        "\n",
        "\n",
        "\n",
        "\n",
        "\n",
        "\n",
        "\n",
        "\n",
        "\n",
        "\n",
        "\n",
        "\n",
        "\n",
        "\n",
        "\n",
        "\n",
        "\n",
        "\n",
        "\n",
        "\n",
        "\n",
        "\n",
        "\n",
        "\n",
        "\n",
        "\n",
        "\n",
        "\n",
        "\n",
        "\n",
        "\n",
        "\n",
        "\n",
        "\n",
        "\n",
        "\n",
        "\n"
      ],
      "metadata": {
        "id": "wk-9a2fpoLcV"
      },
      "execution_count": null,
      "outputs": []
    },
    {
      "cell_type": "markdown",
      "source": [
        "### What all manipulations have you done and insights you found?"
      ],
      "metadata": {
        "id": "MSa1f5Uengrz"
      }
    },
    {
      "cell_type": "markdown",
      "source": [
        "**Answer** **Here**\n",
        "\n",
        "In the provided code, several data manipulations and insights have been performed on the Play Store Apps Data. Here's a summary of the manipulations and insights:\n",
        "\n",
        "**Data** **Cleaning** **and** **Transformation**:\n",
        "\n",
        "Converted the 'Size' column to numerical format, handling missing values by replacing 'Varies with device' with the median size.\n",
        "Extracted the numerical part from the 'Size' column, converted 'M' and 'k' to appropriate scale, and filled missing values with the median.\n",
        "Defined a function to convert installation numbers to numerical format, removing non-numeric characters, and applied it to the 'Installs' column.\n",
        "Adjusted the scale of the 'Installs' column to represent installations in terms of thousands.\n",
        "Extracted numerical values from the 'Price' column.\n",
        "Converted the 'Last Updated' column to datetime format and extracted the year.\n",
        "Converted categorical variables to numerical using one-hot encoding.\n",
        "Binned the 'Size' column into categories ('Very Small', 'Small', 'Medium', 'Large').\n",
        "\n",
        "**Outlier** **Detection** **and** **Handling**:\n",
        "\n",
        "Detected and handled outliers in numerical columns ('Rating', 'Reviews', 'Size', 'Installs', 'Price') using the Interquartile Range (IQR) method.\n",
        "Identified outliers in each numerical column and printed the number of outliers found.\n",
        "\n",
        "**Summary** **Information**:\n",
        "\n",
        "Printed the summary information of the Play Store Apps Data and Customer Reviews Data after the data manipulations.\n",
        "\n",
        "**Text** **Preprocessing**:\n",
        "\n",
        "Handled missing values in the 'Translated_Review' column by filling them with empty strings.\n",
        "\n",
        "Filled missing values in the 'Sentiment', 'Sentiment_Polarity', and 'Sentiment_Subjectivity' columns with mode or median.\n",
        "Removed duplicate rows based on 'Translated_Review'.\n",
        "Performed text preprocessing (e.g., lowercasing, removing punctuation) for the 'App' column in the Customer Reviews Data.\n",
        "\n",
        "**Insights**:\n",
        "\n",
        "Outliers:\n",
        "\n",
        "There are outliers present in all numerical columns: 'Rating', 'Reviews', 'Size', 'Installs', and 'Price'.\n",
        "The number of outliers varies for each column:\n",
        "504 outliers in the 'Rating' column.\n",
        "1924 outliers in the 'Reviews' column.\n",
        "1056 outliers in the 'Size' column.\n",
        "828 outliers in the 'Installs' column.\n",
        "800 outliers in the 'Price' column.\n",
        "\n",
        "\n",
        "\n",
        "\n",
        "\n",
        "\n",
        "\n"
      ],
      "metadata": {
        "id": "LbyXE7I1olp8"
      }
    },
    {
      "cell_type": "markdown",
      "source": [
        "## ***4. Data Vizualization, Storytelling & Experimenting with charts : Understand the relationships between variables***"
      ],
      "metadata": {
        "id": "GF8Ens_Soomf"
      }
    },
    {
      "cell_type": "markdown",
      "source": [],
      "metadata": {
        "id": "l8rVCvOWbPUR"
      }
    },
    {
      "cell_type": "markdown",
      "source": [
        "#### Chart - 1 Art and Design Apps vs Other Categories(Bivariate)"
      ],
      "metadata": {
        "id": "0wOQAZs5pc--"
      }
    },
    {
      "cell_type": "markdown",
      "source": [],
      "metadata": {
        "id": "4nStKUTm5OeM"
      }
    },
    {
      "cell_type": "code",
      "source": [
        "# Chart - 1 visualization code\n",
        "from scipy.stats import ttest_ind\n",
        "\n",
        "\n",
        "\n",
        "\n",
        "\n",
        "# Assumption 1: Art and design apps have better ratings over others\n",
        "art_design_apps = apps_data[apps_data['Category'] == 'ART_AND_DESIGN']\n",
        "other_apps = apps_data[apps_data['Category'] != 'ART_AND_DESIGN']\n",
        "\n",
        "# Drop rows with missing values in the 'Rating' column for both DataFrames\n",
        "art_design_apps = art_design_apps.dropna(subset=['Rating'])\n",
        "other_apps = other_apps.dropna(subset=['Rating'])\n",
        "\n",
        "\n",
        "# Visualize the distribution of ratings for art and design apps compared to other categories\n",
        "plt.figure(figsize=(10, 6))\n",
        "sns.kdeplot(art_design_apps['Rating'], label='Art and Design Apps', fill=True)\n",
        "sns.kdeplot(other_apps['Rating'], label='Other Apps', fill=True)\n",
        "plt.title('Distribution of Ratings for Art and Design Apps vs. Other Categories')\n",
        "plt.xlabel('Rating')\n",
        "plt.ylabel('Density')\n",
        "plt.legend()\n",
        "plt.show()\n",
        "\n",
        "# perform a t-test to compare the average ratings of art and design apps with other categories\n",
        "t_stat, p_value = ttest_ind(art_design_apps['Rating'], other_apps['Rating'])\n",
        "print('T-Statistic:', t_stat)\n",
        "print('P-Value:', p_value)\n"
      ],
      "metadata": {
        "id": "7v_ESjsspbW7"
      },
      "execution_count": null,
      "outputs": []
    },
    {
      "cell_type": "markdown",
      "source": [
        "# New section"
      ],
      "metadata": {
        "id": "zcwMGnCoEWIk"
      }
    },
    {
      "cell_type": "markdown",
      "source": [
        "##### 1. Why did you pick the specific chart?"
      ],
      "metadata": {
        "id": "K5QZ13OEpz2H"
      }
    },
    {
      "cell_type": "markdown",
      "source": [],
      "metadata": {
        "id": "Vv50HsP0_Tst"
      }
    },
    {
      "cell_type": "markdown",
      "source": [
        "Answer Here\n",
        "\n",
        "The specific chart was chosen to compare the distribution of ratings between art and design apps and other categories. By visualizing the density of ratings using kernel density estimation (KDE) plots, we can gain insights into the typical rating distributions for these two groups of apps. This comparison helps stakeholders understand whether art and design apps tend to receive higher or lower ratings compared to apps in other categories, which can inform decision-making processes related to app development, user satisfaction, and market positioning.\n",
        "\n",
        "\n",
        "\n",
        "\n",
        "\n",
        "\n",
        "\n",
        "\n",
        "\n",
        "\n",
        "\n",
        "\n",
        "\n",
        "\n",
        "\n",
        "\n",
        "\n",
        "\n",
        "\n",
        "\n",
        "\n",
        "\n",
        "\n",
        "\n",
        "\n"
      ],
      "metadata": {
        "id": "XESiWehPqBRc"
      }
    },
    {
      "cell_type": "markdown",
      "source": [
        "##### 2. What is/are the insight(s) found from the chart?"
      ],
      "metadata": {
        "id": "lQ7QKXXCp7Bj"
      }
    },
    {
      "cell_type": "markdown",
      "source": [
        "Answer Here\n",
        "\n",
        "The density and distribution of ratings for art and design apps differ significantly from those of other app categories.\n",
        "Art and design apps tend to have a lower density of ratings, indicating that they are less densely populated in terms of user ratings compared to other categories.\n",
        "Additionally, the distribution of ratings for art and design apps is narrower, with the peak density concentrated within a smaller range (2.5 to 5) compared to other apps.\n",
        "Overall, these observations suggest that art and design apps have distinct patterns in user ratings compared to other types of apps, with a tendency towards both lower density and a narrower distribution of ratings.\n",
        "\n",
        "\n",
        "\n",
        "\n",
        "\n",
        "\n",
        "\n",
        "\n",
        "\n",
        "The t-test performed to compare the average ratings of art and design apps with other categories yielded a t-statistic of 2.42 and a p-value of 0.015. With a p-value below the significance level of 0.05, we reject the null hypothesis, indicating that there is a statistically significant difference in the average ratings between art and design apps and other apps.\n",
        "\n",
        "\n",
        "\n",
        "\n",
        "\n",
        "\n",
        "\n",
        "\n",
        "\n",
        "\n",
        "\n",
        "\n",
        "\n"
      ],
      "metadata": {
        "id": "C_j1G7yiqdRP"
      }
    },
    {
      "cell_type": "markdown",
      "source": [
        " ##### 3. Will the gained insights help creating a positive business impact?\n",
        "Are there any insights that lead to negative growth? Justify with specific reason."
      ],
      "metadata": {
        "id": "448CDAPjqfQr"
      }
    },
    {
      "cell_type": "markdown",
      "source": [
        "*Answer Here\n",
        "\n",
        "The insights gained from the analysis of the KDE plot comparing the density of ratings for art and design apps with that of other apps can potentially lead to a positive business impact. Understanding the distribution of ratings for different app categories can help businesses make informed decisions regarding their app development and marketing strategies.\n",
        "\n",
        "However, there are certain insights that could potentially lead to negative growth if not interpreted correctly. For example, if a business misinterprets the KDE plot and assumes that art and design apps consistently receive higher ratings compared to other categoriesthey may allocate disproportionate resources towards developing and promoting art and design apps. This narrow focus could lead to missed opportunities in other app categories that may have higher demand or better revenue potential.\n",
        "\n",
        "Therefore, while the insights from the KDE plot provide valuable information, it's essential for businesses to conduct a comprehensive analysis considering various factors such as market trends, user preferences, competition, and monetization strategies to ensure sustainable growth and avoid potential pitfalls.,"
      ],
      "metadata": {
        "id": "3cspy4FjqxJW"
      }
    },
    {
      "cell_type": "markdown",
      "source": [],
      "metadata": {
        "id": "1c0D0WobRXAn"
      }
    },
    {
      "cell_type": "markdown",
      "source": [
        "#### Chart - 2 Installations of Free apps vs Paid Apps(Bivariate)"
      ],
      "metadata": {
        "id": "KSlN3yHqYklG"
      }
    },
    {
      "cell_type": "code",
      "source": [
        "# Assumption 2: Free apps have more installs than paid apps\n",
        "import seaborn as sns\n",
        "import matplotlib.pyplot as plt\n",
        "from scipy.stats import ttest_ind\n",
        "\n",
        "# Plot for Free Apps\n",
        "plt.figure(figsize=(8, 6))\n",
        "sns.barplot(data=apps_data[apps_data['Type_Free']], x='Type_Free', y='Installs', estimator=np.mean, errorbar=None, color='skyblue')\n",
        "plt.title('Average Number of Installations for Free Apps')\n",
        "plt.xlabel('App Type')\n",
        "plt.ylabel('Average Number of Installations')\n",
        "plt.xticks([0], ['Free'])  # Just to label the x-axis as 'Free'\n",
        "plt.show()\n",
        "\n",
        "# Plot for Paid Apps\n",
        "plt.figure(figsize=(8, 6))\n",
        "sns.barplot(data=apps_data[apps_data['Type_Paid']], x='Type_Paid', y='Installs', estimator=np.mean, errorbar=None, color='salmon')\n",
        "plt.title('Average Number of Installations for Paid Apps')\n",
        "plt.xlabel('App Type')\n",
        "plt.ylabel('Average Number of Installations')\n",
        "plt.xticks([0], ['Paid'])  # Just to label the x-axis as 'Paid'\n",
        "plt.show()\n",
        "\n",
        "# Define free_apps_installs and paid_apps_installs\n",
        "free_apps_installs = apps_data.loc[apps_data['Type_Free'],'Installs']\n",
        "paid_apps_installs = apps_data.loc[apps_data['Type_Paid'],'Installs']\n",
        "\n",
        "# Perform a statistical test to compare the average number of installs between free and paid apps\n",
        "t_stat, p_value = ttest_ind(free_apps_installs.dropna(), paid_apps_installs.dropna())\n",
        "print('T-Statistic:', t_stat)\n",
        "print('P-Value:', p_value)\n",
        "\n"
      ],
      "metadata": {
        "id": "R4YgtaqtYklH"
      },
      "execution_count": null,
      "outputs": []
    },
    {
      "cell_type": "markdown",
      "source": [
        "##### 1. Why did you pick the specific chart?"
      ],
      "metadata": {
        "id": "t6dVpIINYklI"
      }
    },
    {
      "cell_type": "markdown",
      "source": [
        "Answer Here.\n",
        "\n",
        "The specific charts were chosen to visualize and compare the average number of installations between free and paid apps. Bar plots are effective for comparing numerical values across different categories, making them suitable for this comparison. The charts clearly display the average number of installations for each type of app, allowing for easy interpretation and comparison of the installation trends between free and paid apps.\n",
        "\n",
        "\n",
        "\n",
        "\n",
        "\n"
      ],
      "metadata": {
        "id": "5aaW0BYyYklI"
      }
    },
    {
      "cell_type": "markdown",
      "source": [
        "##### 2. What is/are the insight(s) found from the chart?"
      ],
      "metadata": {
        "id": "ijmpgYnKYklI"
      }
    },
    {
      "cell_type": "markdown",
      "source": [
        "Answer Here\n",
        "\n",
        "The insight gained from the chart comparing free and paid apps based on installations is that there is a substantial difference in the average number of installations between the two types of apps:\n",
        "\n",
        "Free Apps:\n",
        "\n",
        "Free apps, on average, exhibit significantly higher installations compared to paid apps.\n",
        "The average number of installations for free apps is represented on the y-axis scale, ranging from 0 to 1.6 (in units of billions).\n",
        "The bar plot for free apps extends beyond 1.6 on the y-axis, indicating that some free apps have exceptionally high installations.\n",
        "\n",
        "Paid Apps:\n",
        "\n",
        "Paid apps, on average, have notably lower installations compared to free apps.\n",
        "The average number of installations for paid apps is represented on the y-axis scale, ranging from 0 to 8 (in units of millions).\n",
        "The bar plot for paid apps extends beyond 8 on the y-axis, indicating that some paid apps have relatively higher installations but still significantly lower than free apps.\n",
        "\n",
        "Statistical Significance:\n",
        "\n",
        "The T-statistic value of 5.32 indicates a significant difference in the average number of installations between free and paid apps. Additionally, the p-value of 1.05e-07 is much lower than the conventional significance level of 0.05, suggesting strong evidence against the null hypothesis that there is no difference in installations between the two types of apps. Therefore, we reject the null hypothesis and conclude that there is a statistically significant difference in the average number of installations between free and paid apps.\n",
        "\n",
        "\n",
        "\n",
        "\n",
        "\n",
        "\n"
      ],
      "metadata": {
        "id": "PSx9atu2YklI"
      }
    },
    {
      "cell_type": "markdown",
      "source": [
        "##### 3.Will the gained insights help creating a positive business impact?\n",
        "\n",
        "Are there any insights that lead to negative growth?Justify your reason."
      ],
      "metadata": {
        "id": "SdXHPn-EOFed"
      }
    },
    {
      "cell_type": "markdown",
      "source": [
        "Answer here\n",
        "\n",
        "Positive Business Impact:\n",
        "\n",
        "The insight that free apps have higher installations suggests that offering apps for free can attract a larger user base.\n",
        "Developers and businesses can leverage this insight to increase their app's visibility, reach, and potential for monetization through alternative methods such as in-app purchases, ads, or premium features.\n",
        "\n",
        "Potential Negative Growth:\n",
        "\n",
        "While offering free apps may lead to higher installations and user engagement, it may also result in lower revenue generation directly from app purchases.\n",
        "Businesses relying solely on free apps may face challenges in sustaining profitability unless they effectively monetize through other means such as advertisements or premium upgrades.\n",
        "\n",
        "Overall, the gained insights can help businesses make informed decisions about their app monetization strategies, user acquisition tactics, and revenue models to maximize positive impact while mitigating potential challenges associated with offering free apps.\n",
        "\n",
        "\n",
        "\n",
        "\n",
        "\n"
      ],
      "metadata": {
        "id": "BcBbebzrYklV"
      }
    },
    {
      "cell_type": "markdown",
      "source": [],
      "metadata": {
        "id": "QDzjQEIzNl7t"
      }
    },
    {
      "cell_type": "markdown",
      "source": [
        "#### Chart - 3"
      ],
      "metadata": {
        "id": "EM7whBJCYoAo"
      }
    },
    {
      "cell_type": "code",
      "source": [
        "\n",
        "# Visualize the trend of review counts over time\n",
        "plt.figure(figsize=(10, 6))\n",
        "apps_data.groupby(apps_data['Last Updated'].dt.year)['Reviews'].sum().plot(marker='o')\n",
        "plt.title('Trend of Review Counts Over Time')\n",
        "plt.xlabel('Year')\n",
        "plt.ylabel('Total Reviews')\n",
        "plt.grid(True)\n",
        "plt.show()\n",
        "\n"
      ],
      "metadata": {
        "id": "t6GMdE67YoAp"
      },
      "execution_count": null,
      "outputs": []
    },
    {
      "cell_type": "markdown",
      "source": [
        "##### 1. Why did you pick the specific chart?"
      ],
      "metadata": {
        "id": "fge-S5ZAYoAp"
      }
    },
    {
      "cell_type": "markdown",
      "source": [
        "Answer Here\n",
        "The specific chart was chosen to visualize the trend of review counts over time because it provides valuable insights into the engagement and feedback received by apps across different years. By plotting the total reviews aggregated by year, we can observe how the volume of reviews has evolved over time, which can indicate the popularity, user engagement, and overall performance of apps on the platform. This visualization helps stakeholders understand the growth or decline in user interaction with the apps and can guide decision-making processes related to app development, updates, and marketing strategies.\n",
        "\n",
        "\n",
        "\n",
        "\n",
        "\n",
        "\n",
        "\n"
      ],
      "metadata": {
        "id": "5dBItgRVYoAp"
      }
    },
    {
      "cell_type": "markdown",
      "source": [
        "##### 2. What is/are the insight(s) found from the chart?"
      ],
      "metadata": {
        "id": "85gYPyotYoAp"
      }
    },
    {
      "cell_type": "markdown",
      "source": [
        "The insights from the chart depicting the trend of review counts over time are as follows:\n",
        "\n",
        "Low Activity Period (2010-2016): From 2010 to 2016, there was a relatively low level of total reviews, suggesting either a smaller user base, fewer app offerings, or less user engagement during this period.\n",
        "\n",
        "Gradual Increase (2016-2017): There was a gradual increase in total reviews observed from 2016 to 2017, indicating a potential uptick in user activity, app usage, or the introduction of new apps leading to increased user engagement\n",
        "\n",
        "Significant Spike (2017 onwards): From 2017 onwards, there was a notable spike in total reviews, indicating a substantial increase in user engagement, feedback, or the overall number of apps available on the platform. This surge suggests a significant growth in the platform's popularity or user base during this period.\n",
        "\n",
        "Overall, the insights suggest a changing trend in user engagement over time, with a significant increase in activity observed from 2017 onwards. This could indicate a growing and vibrant ecosystem within the platform, providing opportunities for developers and businesses to leverage increased user engagement for their apps.\n",
        "\n",
        "\n",
        "\n",
        "\n"
      ],
      "metadata": {
        "id": "4jstXR6OYoAp"
      }
    },
    {
      "cell_type": "markdown",
      "source": [
        "##### 3. Will the gained insights help creating a positive business impact?\n",
        "Are there any insights that lead to negative growth? Justify with specific reason."
      ],
      "metadata": {
        "id": "RoGjAbkUYoAp"
      }
    },
    {
      "cell_type": "markdown",
      "source": [
        "Answer Here\n",
        "\n",
        " The gained insights can indeed help create a positive business impact by providing valuable information about user engagement trends over time. Specifically:\n",
        "\n",
        "Positive Business Impact:\n",
        "\n",
        "Understanding the trend of review counts over time allows businesses to gauge the platform's overall popularity and user engagement levels.\n",
        "The observed increase in total reviews, particularly from 2017 onwards, suggests a growing user base and heightened user activity, indicating a potentially larger market for app developers and businesses.\n",
        "Businesses can use this information to tailor their strategies, prioritize platform-specific marketing efforts, and develop apps that cater to the growing user base, ultimately leading to increased visibility, downloads, and revenue.\n",
        "Insights Leading to Negative Growth:\n",
        "\n",
        "While the overall trend shows positive growth in user engagement, the period from 2010 to 2016 exhibits relatively low activity levels. This could indicate a slower market growth, decreased user interest, or fewer app offerings during that time.\n",
        "Businesses should be cautious not to overlook this period of low activity and consider potential factors contributing to it. Ignoring these insights could lead to missed opportunities or ineffective strategies in targeting users during periods of lower engagement.\n",
        "Overall, leveraging insights from the trend of review counts over time can empower businesses to make informed decisions, capitalize on growth opportunities, and adapt their strategies to maximize positive business impact while mitigating potential risks associated with periods of low activity.\n",
        "\n",
        "\n",
        "\n",
        "\n",
        "\n",
        "\n",
        "\n"
      ],
      "metadata": {
        "id": "zfJ8IqMcYoAp"
      }
    },
    {
      "cell_type": "markdown",
      "source": [],
      "metadata": {
        "id": "7QLAGCf4Q55n"
      }
    },
    {
      "cell_type": "markdown",
      "source": [
        "#### Chart - 4"
      ],
      "metadata": {
        "id": "4Of9eVA-YrdM"
      }
    },
    {
      "cell_type": "code",
      "source": [
        "# Chart - 4 visualization code\n",
        "# Installs vs. Reviews\n",
        "fig, axs = plt.subplots(2, 2, figsize=(12,10))  # Define a 2x2 grid of subplots\n",
        "sns.scatterplot(x='Installs', y='Reviews', data=apps_data, ax=axs[1, 0])\n",
        "axs[1, 0].set_title('Installs vs. Reviews')\n",
        "axs[1, 0].set_xlabel('Installs')\n",
        "axs[1, 0].set_ylabel('Reviews')\n",
        "plt.show()"
      ],
      "metadata": {
        "id": "irlUoxc8YrdO"
      },
      "execution_count": null,
      "outputs": []
    },
    {
      "cell_type": "markdown",
      "source": [
        "##### 1. Why did you pick the specific chart?"
      ],
      "metadata": {
        "id": "iky9q4vBYrdO"
      }
    },
    {
      "cell_type": "markdown",
      "source": [
        "\n",
        "\n",
        "Answer Here.\n",
        "\n",
        "The specific chart was chosen to explore the relationship between the number of installs and the number of reviews for apps in the dataset. By using a scatter plot, we can visualize how the number of installs correlates with the number of reviews an app receives. This relationship is essential for understanding user engagement and satisfaction with the app. Insights gained from this chart can help stakeholders identify trends, such as whether apps with higher installations tend to receive more reviews, which can inform marketing strategies, user feedback analysis, and app performance evaluation.\n"
      ],
      "metadata": {
        "id": "aJRCwT6DYrdO"
      }
    },
    {
      "cell_type": "markdown",
      "source": [
        "##### 2. What is/are the insight(s) found from the chart?"
      ],
      "metadata": {
        "id": "F6T5p64dYrdO"
      }
    },
    {
      "cell_type": "markdown",
      "source": [
        "Answer Here\n",
        "\n",
        "From the Installs vs. Reviews scatter plot, the following insights can be derived:\n",
        "\n",
        "Positive Correlation: There appears to be a positive correlation between the number of installs and the number of reviews. As the number of installs increases, the number of reviews also tends to increase. This suggests that popular apps with higher installation counts also tend to receive more reviews.\n",
        "\n",
        "Outliers: There are outliers present in the plot, indicating apps that have significantly higher or lower review counts compared to their installation counts. These outliers may represent apps that have unexpectedly high or low engagement levels relative to their popularity.\n",
        "\n",
        "Clustered Data: The majority of data points appear to cluster around certain ranges of installation and review counts. This clustering suggests that there are common patterns in the relationship between installs and reviews among various apps.\n",
        "\n",
        "Overall, this visualization provides insights into the engagement levels of apps on the Google Play Store and can help developers understand the relationship between app installations and user reviews."
      ],
      "metadata": {
        "id": "Xx8WAJvtYrdO"
      }
    },
    {
      "cell_type": "markdown",
      "source": [
        "##### 3. Will the gained insights help creating a positive business impact?\n",
        "Are there any insights that lead to negative growth? Justify with specific reason."
      ],
      "metadata": {
        "id": "y-Ehk30pYrdP"
      }
    },
    {
      "cell_type": "markdown",
      "source": [],
      "metadata": {
        "id": "GZhkicJVquFq"
      }
    },
    {
      "cell_type": "markdown",
      "source": [
        "Answer Here\n",
        "\n",
        "Yes, the insights gained from the Installs vs. Reviews scatter plot can indeed help create a positive business impact:\n",
        "\n",
        "Positive Business Impact:\n",
        "\n",
        "Understanding the positive correlation between installs and reviews can guide developers in creating strategies to increase app engagement. By focusing on increasing installations through effective marketing and promotion strategies, developers can indirectly boost the number of user reviews, which can contribute to greater visibility and credibility for their apps.\n",
        "Identifying outliers can help developers pinpoint apps that are either exceptionally successful or underperforming relative to their installation counts. For successful outliers, developers can analyze the factors contributing to their high engagement levels and replicate those strategies in other apps. Conversely, for underperforming outliers, developers can investigate potential issues affecting user satisfaction and take corrective actions to improve app performance and user experience.\n",
        "\n",
        "Negative Growth:\n",
        "\n",
        "While the overall correlation between installs and reviews is positive, the presence of outliers suggests that not all apps experience proportional growth in reviews relative to their installations. Apps with disproportionately low review counts despite high installations may indicate issues such as poor user engagement, dissatisfaction, or lack of compelling features. Failure to address these issues could lead to negative growth as users may become disinterested or even uninstall the app, resulting in a decline in overall app performance and reputation.\n",
        "\n",
        "In summary, leveraging the insights from the Installs vs. Reviews scatter plot can enable developers to optimize their app strategies, enhance user engagement, and ultimately drive positive business outcomes.\n",
        " However, neglecting to address outliers or issues affecting user satisfaction may lead to negative growth and hinder the success of the app.\n",
        "\n",
        "\n",
        "\n",
        "\n",
        "\n",
        "\n",
        "\n",
        "\n"
      ],
      "metadata": {
        "id": "jLNxxz7MYrdP"
      }
    },
    {
      "cell_type": "markdown",
      "source": [
        "#### Chart - 5"
      ],
      "metadata": {
        "id": "bamQiAODYuh1"
      }
    },
    {
      "cell_type": "code",
      "source": [
        "# chart 5 visualization code\n"
      ],
      "metadata": {
        "id": "TIJwrbroYuh3"
      },
      "execution_count": null,
      "outputs": []
    },
    {
      "cell_type": "markdown",
      "source": [
        "##### 1. Why did you pick the specific chart?"
      ],
      "metadata": {
        "id": "QHF8YVU7Yuh3"
      }
    },
    {
      "cell_type": "markdown",
      "source": [
        "Answer Here.\n",
        "\n"
      ],
      "metadata": {
        "id": "dcxuIMRPYuh3"
      }
    },
    {
      "cell_type": "markdown",
      "source": [
        "##### 2. What is/are the insight(s) found from the chart?"
      ],
      "metadata": {
        "id": "GwzvFGzlYuh3"
      }
    },
    {
      "cell_type": "code",
      "source": [],
      "metadata": {
        "id": "6jPJKP-WcKrH"
      },
      "execution_count": null,
      "outputs": []
    },
    {
      "cell_type": "markdown",
      "source": [
        "Answer Here\n",
        "\n"
      ],
      "metadata": {
        "id": "uyqkiB8YYuh3"
      }
    },
    {
      "cell_type": "markdown",
      "source": [
        "##### 3. Will the gained insights help creating a positive business impact?\n",
        "Are there any insights that lead to negative growth? Justify with specific reason."
      ],
      "metadata": {
        "id": "qYpmQ266Yuh3"
      }
    },
    {
      "cell_type": "markdown",
      "source": [
        "Answer Here\n"
      ],
      "metadata": {
        "id": "_WtzZ_hCYuh4"
      }
    },
    {
      "cell_type": "markdown",
      "source": [],
      "metadata": {
        "id": "FFMjYICwb77w"
      }
    },
    {
      "cell_type": "markdown",
      "source": [
        "#### Chart - 6"
      ],
      "metadata": {
        "id": "OH-pJp9IphqM"
      }
    },
    {
      "cell_type": "code",
      "source": [
        "# Chart - 6 visualization code"
      ],
      "metadata": {
        "id": "kuRf4wtuphqN"
      },
      "execution_count": null,
      "outputs": []
    },
    {
      "cell_type": "markdown",
      "source": [
        "##### 1. Why did you pick the specific chart?"
      ],
      "metadata": {
        "id": "bbFf2-_FphqN"
      }
    },
    {
      "cell_type": "markdown",
      "source": [
        "Answer Here."
      ],
      "metadata": {
        "id": "loh7H2nzphqN"
      }
    },
    {
      "cell_type": "markdown",
      "source": [
        "##### 2. What is/are the insight(s) found from the chart?"
      ],
      "metadata": {
        "id": "_ouA3fa0phqN"
      }
    },
    {
      "cell_type": "markdown",
      "source": [
        "Answer Here"
      ],
      "metadata": {
        "id": "VECbqPI7phqN"
      }
    },
    {
      "cell_type": "markdown",
      "source": [
        "##### 3. Will the gained insights help creating a positive business impact?\n",
        "Are there any insights that lead to negative growth? Justify with specific reason."
      ],
      "metadata": {
        "id": "Seke61FWphqN"
      }
    },
    {
      "cell_type": "markdown",
      "source": [
        "Answer Here"
      ],
      "metadata": {
        "id": "DW4_bGpfphqN"
      }
    },
    {
      "cell_type": "markdown",
      "source": [
        "#### Chart - 7"
      ],
      "metadata": {
        "id": "PIIx-8_IphqN"
      }
    },
    {
      "cell_type": "code",
      "source": [
        "# Chart - 7 visualization code"
      ],
      "metadata": {
        "id": "lqAIGUfyphqO"
      },
      "execution_count": null,
      "outputs": []
    },
    {
      "cell_type": "markdown",
      "source": [
        "##### 1. Why did you pick the specific chart?"
      ],
      "metadata": {
        "id": "t27r6nlMphqO"
      }
    },
    {
      "cell_type": "markdown",
      "source": [
        "Answer Here."
      ],
      "metadata": {
        "id": "iv6ro40sphqO"
      }
    },
    {
      "cell_type": "markdown",
      "source": [
        "##### 2. What is/are the insight(s) found from the chart?"
      ],
      "metadata": {
        "id": "r2jJGEOYphqO"
      }
    },
    {
      "cell_type": "markdown",
      "source": [
        "Answer Here"
      ],
      "metadata": {
        "id": "Po6ZPi4hphqO"
      }
    },
    {
      "cell_type": "markdown",
      "source": [
        "##### 3. Will the gained insights help creating a positive business impact?\n",
        "Are there any insights that lead to negative growth? Justify with specific reason."
      ],
      "metadata": {
        "id": "b0JNsNcRphqO"
      }
    },
    {
      "cell_type": "markdown",
      "source": [
        "Answer Here"
      ],
      "metadata": {
        "id": "xvSq8iUTphqO"
      }
    },
    {
      "cell_type": "markdown",
      "source": [
        "#### Chart - 8"
      ],
      "metadata": {
        "id": "BZR9WyysphqO"
      }
    },
    {
      "cell_type": "code",
      "source": [
        "# Chart - 8 visualization code"
      ],
      "metadata": {
        "id": "TdPTWpAVphqO"
      },
      "execution_count": null,
      "outputs": []
    },
    {
      "cell_type": "markdown",
      "source": [
        "##### 1. Why did you pick the specific chart?"
      ],
      "metadata": {
        "id": "jj7wYXLtphqO"
      }
    },
    {
      "cell_type": "markdown",
      "source": [
        "Answer Here."
      ],
      "metadata": {
        "id": "Ob8u6rCTphqO"
      }
    },
    {
      "cell_type": "markdown",
      "source": [
        "##### 2. What is/are the insight(s) found from the chart?"
      ],
      "metadata": {
        "id": "eZrbJ2SmphqO"
      }
    },
    {
      "cell_type": "markdown",
      "source": [
        "Answer Here"
      ],
      "metadata": {
        "id": "mZtgC_hjphqO"
      }
    },
    {
      "cell_type": "markdown",
      "source": [
        "##### 3. Will the gained insights help creating a positive business impact?\n",
        "Are there any insights that lead to negative growth? Justify with specific reason."
      ],
      "metadata": {
        "id": "rFu4xreNphqO"
      }
    },
    {
      "cell_type": "markdown",
      "source": [
        "Answer Here"
      ],
      "metadata": {
        "id": "ey_0qi68phqO"
      }
    },
    {
      "cell_type": "markdown",
      "source": [
        "#### Chart - 9"
      ],
      "metadata": {
        "id": "YJ55k-q6phqO"
      }
    },
    {
      "cell_type": "code",
      "source": [
        "# Chart - 9 visualization code"
      ],
      "metadata": {
        "id": "B2aS4O1ophqO"
      },
      "execution_count": null,
      "outputs": []
    },
    {
      "cell_type": "markdown",
      "source": [
        "##### 1. Why did you pick the specific chart?"
      ],
      "metadata": {
        "id": "gCFgpxoyphqP"
      }
    },
    {
      "cell_type": "markdown",
      "source": [
        "Answer Here."
      ],
      "metadata": {
        "id": "TVxDimi2phqP"
      }
    },
    {
      "cell_type": "markdown",
      "source": [
        "##### 2. What is/are the insight(s) found from the chart?"
      ],
      "metadata": {
        "id": "OVtJsKN_phqQ"
      }
    },
    {
      "cell_type": "markdown",
      "source": [
        "Answer Here"
      ],
      "metadata": {
        "id": "ngGi97qjphqQ"
      }
    },
    {
      "cell_type": "markdown",
      "source": [
        "##### 3. Will the gained insights help creating a positive business impact?\n",
        "Are there any insights that lead to negative growth? Justify with specific reason."
      ],
      "metadata": {
        "id": "lssrdh5qphqQ"
      }
    },
    {
      "cell_type": "markdown",
      "source": [
        "Answer Here"
      ],
      "metadata": {
        "id": "tBpY5ekJphqQ"
      }
    },
    {
      "cell_type": "markdown",
      "source": [
        "#### Chart - 10"
      ],
      "metadata": {
        "id": "U2RJ9gkRphqQ"
      }
    },
    {
      "cell_type": "code",
      "source": [
        "# Chart - 10 visualization code"
      ],
      "metadata": {
        "id": "GM7a4YP4phqQ"
      },
      "execution_count": null,
      "outputs": []
    },
    {
      "cell_type": "markdown",
      "source": [
        "##### 1. Why did you pick the specific chart?"
      ],
      "metadata": {
        "id": "1M8mcRywphqQ"
      }
    },
    {
      "cell_type": "markdown",
      "source": [
        "Answer Here."
      ],
      "metadata": {
        "id": "8agQvks0phqQ"
      }
    },
    {
      "cell_type": "markdown",
      "source": [
        "##### 2. What is/are the insight(s) found from the chart?"
      ],
      "metadata": {
        "id": "tgIPom80phqQ"
      }
    },
    {
      "cell_type": "markdown",
      "source": [
        "Answer Here"
      ],
      "metadata": {
        "id": "Qp13pnNzphqQ"
      }
    },
    {
      "cell_type": "markdown",
      "source": [
        "##### 3. Will the gained insights help creating a positive business impact?\n",
        "Are there any insights that lead to negative growth? Justify with specific reason."
      ],
      "metadata": {
        "id": "JMzcOPDDphqR"
      }
    },
    {
      "cell_type": "markdown",
      "source": [
        "Answer Here"
      ],
      "metadata": {
        "id": "R4Ka1PC2phqR"
      }
    },
    {
      "cell_type": "markdown",
      "source": [
        "#### Chart - 11"
      ],
      "metadata": {
        "id": "x-EpHcCOp1ci"
      }
    },
    {
      "cell_type": "code",
      "source": [
        "# Chart - 11 visualization code"
      ],
      "metadata": {
        "id": "mAQTIvtqp1cj"
      },
      "execution_count": null,
      "outputs": []
    },
    {
      "cell_type": "markdown",
      "source": [
        "##### 1. Why did you pick the specific chart?"
      ],
      "metadata": {
        "id": "X_VqEhTip1ck"
      }
    },
    {
      "cell_type": "markdown",
      "source": [
        "Answer Here."
      ],
      "metadata": {
        "id": "-vsMzt_np1ck"
      }
    },
    {
      "cell_type": "markdown",
      "source": [
        "##### 2. What is/are the insight(s) found from the chart?"
      ],
      "metadata": {
        "id": "8zGJKyg5p1ck"
      }
    },
    {
      "cell_type": "markdown",
      "source": [
        "Answer Here"
      ],
      "metadata": {
        "id": "ZYdMsrqVp1ck"
      }
    },
    {
      "cell_type": "markdown",
      "source": [
        "##### 3. Will the gained insights help creating a positive business impact?\n",
        "Are there any insights that lead to negative growth? Justify with specific reason."
      ],
      "metadata": {
        "id": "PVzmfK_Ep1ck"
      }
    },
    {
      "cell_type": "markdown",
      "source": [
        "Answer Here"
      ],
      "metadata": {
        "id": "druuKYZpp1ck"
      }
    },
    {
      "cell_type": "markdown",
      "source": [
        "#### Chart - 12"
      ],
      "metadata": {
        "id": "n3dbpmDWp1ck"
      }
    },
    {
      "cell_type": "code",
      "source": [
        "# Chart - 12 visualization code"
      ],
      "metadata": {
        "id": "bwevp1tKp1ck"
      },
      "execution_count": null,
      "outputs": []
    },
    {
      "cell_type": "markdown",
      "source": [
        "##### 1. Why did you pick the specific chart?"
      ],
      "metadata": {
        "id": "ylSl6qgtp1ck"
      }
    },
    {
      "cell_type": "markdown",
      "source": [
        "Answer Here."
      ],
      "metadata": {
        "id": "m2xqNkiQp1ck"
      }
    },
    {
      "cell_type": "markdown",
      "source": [
        "##### 2. What is/are the insight(s) found from the chart?"
      ],
      "metadata": {
        "id": "ZWILFDl5p1ck"
      }
    },
    {
      "cell_type": "markdown",
      "source": [
        "Answer Here"
      ],
      "metadata": {
        "id": "x-lUsV2mp1ck"
      }
    },
    {
      "cell_type": "markdown",
      "source": [
        "##### 3. Will the gained insights help creating a positive business impact?\n",
        "Are there any insights that lead to negative growth? Justify with specific reason."
      ],
      "metadata": {
        "id": "M7G43BXep1ck"
      }
    },
    {
      "cell_type": "markdown",
      "source": [
        "Answer Here"
      ],
      "metadata": {
        "id": "5wwDJXsLp1cl"
      }
    },
    {
      "cell_type": "markdown",
      "source": [
        "#### Chart - 13"
      ],
      "metadata": {
        "id": "Ag9LCva-p1cl"
      }
    },
    {
      "cell_type": "code",
      "source": [
        "# Chart - 13 visualization code"
      ],
      "metadata": {
        "id": "EUfxeq9-p1cl"
      },
      "execution_count": null,
      "outputs": []
    },
    {
      "cell_type": "markdown",
      "source": [
        "##### 1. Why did you pick the specific chart?"
      ],
      "metadata": {
        "id": "E6MkPsBcp1cl"
      }
    },
    {
      "cell_type": "markdown",
      "source": [
        "Answer Here."
      ],
      "metadata": {
        "id": "V22bRsFWp1cl"
      }
    },
    {
      "cell_type": "markdown",
      "source": [
        "##### 2. What is/are the insight(s) found from the chart?"
      ],
      "metadata": {
        "id": "2cELzS2fp1cl"
      }
    },
    {
      "cell_type": "markdown",
      "source": [
        "Answer Here"
      ],
      "metadata": {
        "id": "ozQPc2_Ip1cl"
      }
    },
    {
      "cell_type": "markdown",
      "source": [
        "##### 3. Will the gained insights help creating a positive business impact?\n",
        "Are there any insights that lead to negative growth? Justify with specific reason."
      ],
      "metadata": {
        "id": "3MPXvC8up1cl"
      }
    },
    {
      "cell_type": "markdown",
      "source": [
        "Answer Here"
      ],
      "metadata": {
        "id": "GL8l1tdLp1cl"
      }
    },
    {
      "cell_type": "markdown",
      "source": [
        "#### Chart - 14 - Correlation Heatmap"
      ],
      "metadata": {
        "id": "NC_X3p0fY2L0"
      }
    },
    {
      "cell_type": "code",
      "source": [
        "\n",
        "import seaborn as sns\n",
        "import matplotlib.pyplot as plt\n",
        "\n",
        "# Selecting only numerical columns\n",
        "numerical_cols = apps_data.select_dtypes(include=['float64', 'int64'])\n",
        "\n",
        "# Calculate correlation matrix\n",
        "corr_matrix = numerical_cols.corr()\n",
        "\n",
        "# Plot correlation matrix\n",
        "plt.figure(figsize=(12, 10))\n",
        "sns.heatmap(corr_matrix, annot=True, cmap='coolwarm', fmt=\".2f\", linewidths=.5)\n",
        "plt.title('Correlation Matrix of Numerical Columns')\n",
        "plt.show()\n",
        "\n",
        "\n",
        "\n",
        "\n",
        "\n",
        "\n",
        "\n",
        "\n",
        "\n",
        "\n"
      ],
      "metadata": {
        "id": "xyC9zolEZNRQ"
      },
      "execution_count": null,
      "outputs": []
    },
    {
      "cell_type": "markdown",
      "source": [
        "##### 1. Why did you pick the specific chart?"
      ],
      "metadata": {
        "id": "UV0SzAkaZNRQ"
      }
    },
    {
      "cell_type": "markdown",
      "source": [
        "Answer Here.\n",
        "\n",
        "I chose to plot a correlation matrix heatmap because it provides a comprehensive visual representation of the relationships between numerical variables in the dataset. This heatmap allows us to quickly identify strong correlations (positive or negative) between pairs of variables, which can help uncover patterns and insights in the data.\n",
        "\n",
        "The heatmap uses colors to represent the strength and direction of correlations: warmer colors (e.g., red) indicate positive correlations, while cooler colors (e.g., blue) indicate negative correlations. The intensity of the color reflects the magnitude of the correlation coefficient, with darker shades indicating stronger correlations.\n",
        "\n",
        "Annotated values within each cell of the heatmap provide the exact correlation coefficient between the corresponding pair of variables, making it easy to interpret the relationships between different features in the dataset.\n",
        "\n",
        "Overall, the correlation matrix heatmap is a powerful tool for exploring the interdependencies between numerical variables and gaining insights into the underlying structure of the data.\n",
        "\n",
        "\n",
        "\n",
        "\n",
        "\n"
      ],
      "metadata": {
        "id": "DVPuT8LYZNRQ"
      }
    },
    {
      "cell_type": "markdown",
      "source": [
        "##### 2. What is/are the insight(s) found from the chart?"
      ],
      "metadata": {
        "id": "YPEH6qLeZNRQ"
      }
    },
    {
      "cell_type": "markdown",
      "source": [
        " Answer Here\n",
        "\n",
        "Based on the correlation matrix:\n",
        "\n",
        "Rating shares a positive correlation of 0.14 with the 'Year Updated' column, suggesting a slight tendency for more recently updated apps to have slightly higher ratings.\n",
        "\n",
        "Rating shares a weak positive correlation of 0.05 with the 'Installs' column, indicating a slight tendency for apps with higher ratings to also have more installations.\n",
        "\n",
        "Rating shares a weak positive correlation of 0.07 with the 'Reviews' column, indicating a slight tendency for apps with higher ratings to also have more reviews.**\n",
        "\n",
        "Reviews shares a strong positive correlation of 0.64 with the 'Installs' column, indicating a strong relationship between the number of reviews an app receives and the number of installations it has.\n",
        "\n",
        "Size shares a weak negative correlation of -0.23 with the 'Year Updated' column, suggesting a slight tendency for the size of apps to decrease slightly over time.\n",
        "\n",
        "Size shares a weak positive correlation of 0.02 with the 'Price' column, indicating a slight tendency for larger apps to have slightly higher prices.\n",
        "\n",
        "Installs shares a weak positive correlation of 0.09 with the 'Year Updated' column, suggesting a slight tendency for the number of installations of apps to increase slightly over time.\n",
        "\n",
        "Price shares a weak negative correlation of -0.01 with the 'Installs' column, indicating a slight tendency for apps with higher prices to have slightly fewer installations.\n",
        "\n",
        "Overall, these correlations provide insights into the relationships between different numerical variables in the dataset, helping to understand patterns and associations between app features.\n",
        "\n",
        "\n",
        "\n",
        "\n",
        "\n",
        "\n"
      ],
      "metadata": {
        "id": "bfSqtnDqZNRR"
      }
    },
    {
      "cell_type": "markdown",
      "source": [],
      "metadata": {
        "id": "_71B079pWKtB"
      }
    },
    {
      "cell_type": "markdown",
      "source": [
        "#### Chart - 15 - Pair Plot"
      ],
      "metadata": {
        "id": "q29F0dvdveiT"
      }
    },
    {
      "cell_type": "code",
      "source": [
        "# Pair Plot visualization code\n",
        "# Select numerical columns for pair plot\n",
        "numerical_cols = ['Rating', 'Reviews', 'Size', 'Installs', 'Price']\n",
        "\n",
        "# Create pair plot\n",
        "sns.pairplot(apps_data[numerical_cols])\n",
        "plt.show()"
      ],
      "metadata": {
        "id": "o58-TEIhveiU"
      },
      "execution_count": null,
      "outputs": []
    },
    {
      "cell_type": "markdown",
      "source": [
        "##### 1. Why did you pick the specific chart?"
      ],
      "metadata": {
        "id": "EXh0U9oCveiU"
      }
    },
    {
      "cell_type": "markdown",
      "source": [
        "Answer Here.\n",
        "\n",
        "The pairplot was chosen because it allows for a quick visual inspection of the relationships between multiple numerical variables in the dataset. By plotting pairwise relationships in a grid format, we can identify potential patterns, correlations, and outliers, which are essential for understanding the overall structure and distribution of the data. This visualization helps in gaining insights into how different variables relate to each other and can guide further analysis and decision-making processes.\n",
        "\n",
        "\n",
        "\n",
        "\n",
        "\n",
        "\n",
        "\n",
        "\n"
      ],
      "metadata": {
        "id": "eMmPjTByveiU"
      }
    },
    {
      "cell_type": "markdown",
      "source": [
        "##### 2. What is/are the insight(s) found from the chart?"
      ],
      "metadata": {
        "id": "22aHeOlLveiV"
      }
    },
    {
      "cell_type": "markdown",
      "source": [
        "Answer Here"
      ],
      "metadata": {
        "id": "uPQ8RGwHveiV"
      }
    },
    {
      "cell_type": "markdown",
      "source": [
        "## **5. Solution to Business Objective**"
      ],
      "metadata": {
        "id": "JcMwzZxoAimU"
      }
    },
    {
      "cell_type": "markdown",
      "source": [
        "#### What do you suggest the client to achieve Business Objective ?\n",
        "Explain Briefly."
      ],
      "metadata": {
        "id": "8G2x9gOozGDZ"
      }
    },
    {
      "cell_type": "markdown",
      "source": [],
      "metadata": {
        "id": "s404_pGVplM9"
      }
    },
    {
      "cell_type": "markdown",
      "source": [
        "Answer Here.\n",
        "To achieve the business objective outlined for the project, I would suggest the following steps:\n",
        "\n",
        "Data Analysis and Insights Generation:\n",
        "\n",
        "Conduct a thorough analysis of the Play Store apps data and customer reviews to identify trends, patterns, and correlations.\n",
        "Explore factors such as app category, ratings, reviews, size, installs, and pricing to understand their impact on app engagement and success.\n",
        "\n",
        "Identify Key Success Factors:\n",
        "\n",
        "Identify key factors that contribute to higher app ratings, increased installs, and positive customer reviews.\n",
        "Determine which app categories tend to perform better and why.\n",
        "Recommendations for App Improvement:\n",
        "\n",
        "Provide actionable recommendations for app developers based on the insights generated.\n",
        "Suggest strategies to improve app quality, user experience, and overall satisfaction.\n",
        "\n",
        "Advise on pricing strategies, marketing approaches, and feature enhancements to attract more users.\n",
        "Monitor and Iterate:\n",
        "\n",
        "Continuously monitor app performance metrics and user feedback to track the impact of implemented recommendations.\n",
        "Iterate and refine strategies based on new data and evolving market trends.\n",
        "Stay updated with changes in the Play Store ecosystem and competitor activities to remain competitive.\n",
        "\n",
        "Collaboration and Communication:\n",
        "\n",
        "Foster collaboration between app developers, marketers, and other stakeholders to implement recommended changes effectively.\n",
        "Maintain open communication channels to gather feedback and address any concerns or challenges encountered during the implementation process.\n",
        "By following these steps and leveraging the insights gained from the analysis, the client can enhance their app offerings, attract more users, and ultimately achieve their business objective of improving app engagement and success in the Android market."
      ],
      "metadata": {
        "id": "pASKb0qOza21"
      }
    },
    {
      "cell_type": "markdown",
      "source": [],
      "metadata": {
        "id": "hHoPSvWby8fG"
      }
    },
    {
      "cell_type": "markdown",
      "source": [
        "# **Conclusion**"
      ],
      "metadata": {
        "id": "gCX9965dhzqZ"
      }
    },
    {
      "cell_type": "markdown",
      "source": [
        "Write the conclusion here.\n",
        "In conclusion, the analysis of the Google Play Store dataset has provided valuable insights into various aspects of app performance and user engagement. Here are the key findings and recommendations:\n",
        "\n",
        "Category Performance: Art and design apps tend to have slightly lower average ratings compared to apps in other categories. However, further analysis is needed to understand the specific factors influencing user satisfaction within this category.\n",
        "\n",
        "User Engagement Trends: Review counts have shown an increasing trend over time, indicating growing user engagement with apps. This suggests that app developers should prioritize maintaining regular updates and engaging with user feedback to foster a positive user experience.\n",
        "\n",
        "Impact of Ratings and Reviews: There is a positive correlation between app ratings, user reviews, and app installs, highlighting the importance of user feedback in driving app success. App developers should actively solicit and respond to user reviews to enhance app ratings and increase installs.\n",
        "\n",
        "Factors Contributing to App Success: App size, pricing, and content can significantly influence app ratings and installs. Optimizing app size for faster downloads, pricing apps competitively, and providing high-quality content tailored to user preferences can enhance app performance and user satisfaction.\n",
        "\n",
        "Recommendations for App Developers:\n",
        "\n",
        "Regularly update apps to introduce new features and address user feedback.\n",
        "Monitor user reviews closely and respond promptly to address user concerns and improve ratings.\n",
        "Optimize app size and pricing strategies to attract more users and improve user retention.\n",
        "Invest in creating high-quality content and engaging user experiences to differentiate apps from competitors and drive user engagement.\n",
        "Overall, by leveraging these insights and implementing strategic recommendations, app developers can enhance their app offerings, increase user satisfaction, and achieve success in the competitive mobile app market.\n",
        "\n",
        "\n",
        "\n",
        "\n",
        "\n",
        "\n",
        "\n",
        "\n"
      ],
      "metadata": {
        "id": "Fjb1IsQkh3yE"
      }
    },
    {
      "cell_type": "markdown",
      "source": [
        "### ***Hurrah! You have successfully completed your EDA Capstone Project !!!***"
      ],
      "metadata": {
        "id": "gIfDvo9L0UH2"
      }
    }
  ]
}